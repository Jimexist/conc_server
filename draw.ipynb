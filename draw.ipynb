{
 "metadata": {
  "name": ""
 },
 "nbformat": 3,
 "nbformat_minor": 0,
 "worksheets": [
  {
   "cells": [
    {
     "cell_type": "code",
     "collapsed": false,
     "input": [
      "import csv\n",
      "import matplotlib.pyplot as plt\n",
      "\n",
      "fig = plt.figure(1)\n",
      "\n",
      "for idx, c in enumerate((1, 10, 100, 500, 1000)):\n",
      "    plt.subplot(5, 1, idx+1)\n",
      "    plt.title('conc={0}'.format(c))\n",
      "    for color, server in zip(['blue', 'green'], ['optimized', 'baseline']):\n",
      "        with open('{0}_n10000_c{1}_result.csv'.format(server, c)) as csvfile:\n",
      "            reader = csv.reader(csvfile)\n",
      "            header = reader.next()\n",
      "            percents = []\n",
      "            times = []\n",
      "            for percent, time in reader:\n",
      "                percents.append(int(percent))\n",
      "                times.append(float(time))\n",
      "            plt.plot(percents, times, label=server + '/' + str(c), color=color)\n",
      "\n",
      "plt.show()\n",
      "plt.close()"
     ],
     "language": "python",
     "metadata": {},
     "outputs": [],
     "prompt_number": 27
    },
    {
     "cell_type": "code",
     "collapsed": false,
     "input": [],
     "language": "python",
     "metadata": {},
     "outputs": [],
     "prompt_number": 26
    },
    {
     "cell_type": "code",
     "collapsed": false,
     "input": [],
     "language": "python",
     "metadata": {},
     "outputs": []
    }
   ],
   "metadata": {}
  }
 ]
}